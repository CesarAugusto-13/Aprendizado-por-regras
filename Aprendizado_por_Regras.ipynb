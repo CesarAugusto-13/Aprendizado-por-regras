{
  "nbformat": 4,
  "nbformat_minor": 0,
  "metadata": {
    "colab": {
      "provenance": [],
      "authorship_tag": "ABX9TyMnu72ClMX3b/m1zGXoQ/8T",
      "include_colab_link": true
    },
    "kernelspec": {
      "name": "python3",
      "display_name": "Python 3"
    },
    "language_info": {
      "name": "python"
    }
  },
  "cells": [
    {
      "cell_type": "markdown",
      "metadata": {
        "id": "view-in-github",
        "colab_type": "text"
      },
      "source": [
        "<a href=\"https://colab.research.google.com/github/CesarAugusto-13/Aprendizado-por-regras/blob/main/Aprendizado_por_Regras.ipynb\" target=\"_parent\"><img src=\"https://colab.research.google.com/assets/colab-badge.svg\" alt=\"Open In Colab\"/></a>"
      ]
    },
    {
      "cell_type": "markdown",
      "source": [
        "##Bibliotecas"
      ],
      "metadata": {
        "id": "Sz50Q6dsZjyf"
      }
    },
    {
      "cell_type": "code",
      "source": [
        "!pip install Orange3"
      ],
      "metadata": {
        "id": "Czw_q8C2Ys_c"
      },
      "execution_count": null,
      "outputs": []
    },
    {
      "cell_type": "code",
      "execution_count": null,
      "metadata": {
        "id": "7UqakUXJF6hw"
      },
      "outputs": [],
      "source": [
        "import Orange"
      ]
    },
    {
      "cell_type": "markdown",
      "source": [
        "#Base risco de crédito"
      ],
      "metadata": {
        "id": "eHcIla_SFDgS"
      }
    },
    {
      "cell_type": "code",
      "source": [
        "base_risco_credito = Orange.data.Table('risco_credito_regras.csv')"
      ],
      "metadata": {
        "id": "UaIxSOctFC5s"
      },
      "execution_count": null,
      "outputs": []
    },
    {
      "cell_type": "code",
      "source": [
        "base_risco_credito"
      ],
      "metadata": {
        "colab": {
          "base_uri": "https://localhost:8080/"
        },
        "id": "oGFs7cCYH9Ww",
        "outputId": "6f7bbe7a-61ca-4a55-e4af-355f53401da7"
      },
      "execution_count": null,
      "outputs": [
        {
          "output_type": "execute_result",
          "data": {
            "text/plain": [
              "[[ruim, alta, nenhuma, 0_15 | alto],\n",
              " [desconhecida, alta, nenhuma, 15_35 | alto],\n",
              " [desconhecida, baixa, nenhuma, 15_35 | moderado],\n",
              " [desconhecida, baixa, nenhuma, acima_35 | alto],\n",
              " [desconhecida, baixa, nenhuma, acima_35 | baixo],\n",
              " ...\n",
              "]"
            ]
          },
          "metadata": {},
          "execution_count": 6
        }
      ]
    },
    {
      "cell_type": "code",
      "source": [
        "base_risco_credito.domain"
      ],
      "metadata": {
        "colab": {
          "base_uri": "https://localhost:8080/"
        },
        "id": "ll6SktwnH9TO",
        "outputId": "7a74addc-4191-4205-9892-a5ba1700284b"
      },
      "execution_count": null,
      "outputs": [
        {
          "output_type": "execute_result",
          "data": {
            "text/plain": [
              "[historia, divida, garantias, renda | risco]"
            ]
          },
          "metadata": {},
          "execution_count": 7
        }
      ]
    },
    {
      "cell_type": "code",
      "source": [
        "cn2 = Orange.classification.rules.CN2Learner()\n",
        "regras_risco_credito = cn2(base_risco_credito)"
      ],
      "metadata": {
        "id": "qjG07huTH9Ka"
      },
      "execution_count": null,
      "outputs": []
    },
    {
      "cell_type": "code",
      "source": [
        "for regras in regras_risco_credito.rule_list:\n",
        "  print(regras)"
      ],
      "metadata": {
        "colab": {
          "base_uri": "https://localhost:8080/"
        },
        "id": "YfNtqkYHJ3QQ",
        "outputId": "c4f7de21-c28f-412a-ae19-f700ea087054"
      },
      "execution_count": null,
      "outputs": [
        {
          "output_type": "stream",
          "name": "stdout",
          "text": [
            "IF renda==0_15 THEN risco=alto \n",
            "IF historia==boa AND divida!=alta THEN risco=baixo \n",
            "IF historia==boa AND garantias!=nenhuma THEN risco=baixo \n",
            "IF historia==boa AND renda!=15_35 THEN risco=baixo \n",
            "IF historia==boa THEN risco=moderado \n",
            "IF divida==alta THEN risco=alto \n",
            "IF historia!=desconhecida THEN risco=moderado \n",
            "IF garantias==adequada THEN risco=baixo \n",
            "IF renda==15_35 THEN risco=moderado \n",
            "IF historia==desconhecida THEN risco=alto \n",
            "IF TRUE THEN risco=alto \n"
          ]
        }
      ]
    },
    {
      "cell_type": "code",
      "source": [
        "#historia boa, dívida alta, garantias nenhuma, renda > 35\n",
        "#história ruim, divida alta, garantias adequadas, renda < 15\n",
        "previsoes = regras_risco_credito([['boa', 'alta', 'nenhuma', 'acima_35'],['ruim', 'alta', 'adequada', '0_15']])\n",
        "previsoes"
      ],
      "metadata": {
        "colab": {
          "base_uri": "https://localhost:8080/"
        },
        "id": "NxeCpbpxKJOa",
        "outputId": "346c6b64-2cb4-4b50-e0e7-a9350adb9dd9"
      },
      "execution_count": null,
      "outputs": [
        {
          "output_type": "execute_result",
          "data": {
            "text/plain": [
              "array([1, 0])"
            ]
          },
          "metadata": {},
          "execution_count": 15
        }
      ]
    },
    {
      "cell_type": "code",
      "source": [
        "base_risco_credito.domain.class_var.values"
      ],
      "metadata": {
        "colab": {
          "base_uri": "https://localhost:8080/"
        },
        "id": "BJwUhAeSK3PY",
        "outputId": "da2803cc-7047-40dd-8b06-93ddf2f200ce"
      },
      "execution_count": null,
      "outputs": [
        {
          "output_type": "execute_result",
          "data": {
            "text/plain": [
              "('alto', 'baixo', 'moderado')"
            ]
          },
          "metadata": {},
          "execution_count": 20
        }
      ]
    },
    {
      "cell_type": "code",
      "source": [
        "for i in previsoes:\n",
        "  #print(i)\n",
        "  print(base_risco_credito.domain.class_var.values[i])"
      ],
      "metadata": {
        "colab": {
          "base_uri": "https://localhost:8080/"
        },
        "id": "mTjfFh1fLmgf",
        "outputId": "e22bd118-ac75-4868-d36b-10e27baf3075"
      },
      "execution_count": null,
      "outputs": [
        {
          "output_type": "stream",
          "name": "stdout",
          "text": [
            "baixo\n",
            "alto\n"
          ]
        }
      ]
    },
    {
      "cell_type": "markdown",
      "source": [
        "#Base credit data"
      ],
      "metadata": {
        "id": "jF-6PDvRFD6A"
      }
    },
    {
      "cell_type": "code",
      "source": [
        "base_credit = Orange.data.Table('credit_data_regras.csv')"
      ],
      "metadata": {
        "id": "lokWZ5FpFELc"
      },
      "execution_count": null,
      "outputs": []
    },
    {
      "cell_type": "code",
      "source": [
        "base_credit.domain"
      ],
      "metadata": {
        "colab": {
          "base_uri": "https://localhost:8080/"
        },
        "id": "tVUkCjY5M38u",
        "outputId": "b615206a-97bf-46a8-abdd-a93a021d373f"
      },
      "execution_count": null,
      "outputs": [
        {
          "output_type": "execute_result",
          "data": {
            "text/plain": [
              "[income, age, loan | default]"
            ]
          },
          "metadata": {},
          "execution_count": 26
        }
      ]
    },
    {
      "cell_type": "code",
      "source": [
        "base_dividida = Orange.evaluation.testing.sample(base_credit, n = 0.25)\n",
        "base_dividida"
      ],
      "metadata": {
        "colab": {
          "base_uri": "https://localhost:8080/"
        },
        "id": "FPRn4piVM30l",
        "outputId": "373a7c52-b9da-4df4-edfe-b80be3a9c57c"
      },
      "execution_count": null,
      "outputs": [
        {
          "output_type": "execute_result",
          "data": {
            "text/plain": [
              "([[48422.5, 41.8542, 3520.57 | 0],\n",
              "  [69132.5, 33.4712, 7621.41 | 0],\n",
              "  [58074.6, 59.7987, 8551.26 | 0],\n",
              "  [27947.4, 58.3485, 5514.12 | 0],\n",
              "  [55934.4, 60.7552, 5643.18 | 0],\n",
              "  ...\n",
              " ],\n",
              " [[48414.3, 21.9536, 2105.71 | 0],\n",
              "  [49205.6, 24.622, 3393.86 | 0],\n",
              "  [67730.4, 26.3031, 8881.58 | 1],\n",
              "  [24822.1, 29.0204, 2361.17 | 0],\n",
              "  [29954, 61.8368, 5774.07 | 0],\n",
              "  ...\n",
              " ])"
            ]
          },
          "metadata": {},
          "execution_count": 27
        }
      ]
    },
    {
      "cell_type": "code",
      "source": [
        "base_dividida[1]"
      ],
      "metadata": {
        "colab": {
          "base_uri": "https://localhost:8080/"
        },
        "id": "b7KKpqvYNQvB",
        "outputId": "b2042bbf-9e60-40b2-fc2e-b32309ffb89c"
      },
      "execution_count": null,
      "outputs": [
        {
          "output_type": "execute_result",
          "data": {
            "text/plain": [
              "[[48414.3, 21.9536, 2105.71 | 0],\n",
              " [49205.6, 24.622, 3393.86 | 0],\n",
              " [67730.4, 26.3031, 8881.58 | 1],\n",
              " [24822.1, 29.0204, 2361.17 | 0],\n",
              " [29954, 61.8368, 5774.07 | 0],\n",
              " ...\n",
              "]"
            ]
          },
          "metadata": {},
          "execution_count": 28
        }
      ]
    },
    {
      "cell_type": "code",
      "source": [
        "base_treinamento = base_dividida[1]\n",
        "base_teste = base_dividida[0]"
      ],
      "metadata": {
        "id": "RgGKpuHbNUgL"
      },
      "execution_count": null,
      "outputs": []
    },
    {
      "cell_type": "code",
      "source": [
        "len(base_treinamento), len(base_teste)"
      ],
      "metadata": {
        "colab": {
          "base_uri": "https://localhost:8080/"
        },
        "id": "NrqVBtDjNa6x",
        "outputId": "90986d66-3838-418f-c129-3347990fd60e"
      },
      "execution_count": null,
      "outputs": [
        {
          "output_type": "execute_result",
          "data": {
            "text/plain": [
              "(1500, 500)"
            ]
          },
          "metadata": {},
          "execution_count": 30
        }
      ]
    },
    {
      "cell_type": "code",
      "source": [
        "cn2 = Orange.classification.rules.CN2Learner()\n",
        "regras_credit = cn2(base_treinamento)"
      ],
      "metadata": {
        "id": "bwrF1Y-aNbJv"
      },
      "execution_count": null,
      "outputs": []
    },
    {
      "cell_type": "code",
      "source": [
        "for regras in regras_credit.rule_list:\n",
        "  print(regras)"
      ],
      "metadata": {
        "colab": {
          "base_uri": "https://localhost:8080/"
        },
        "id": "eMDB9vY_N4cV",
        "outputId": "509113e6-36a9-4024-cffe-2a5727fda40c"
      },
      "execution_count": null,
      "outputs": [
        {
          "output_type": "stream",
          "name": "stdout",
          "text": [
            "IF age>=34.9257164876908 THEN default=0 \n",
            "IF loan<=2495.13299137587 AND income>=20511.4294355735 THEN default=0 \n",
            "IF income<=31702.3342987522 AND loan>=3665.88089899456 THEN default=1 \n",
            "IF loan>=7498.630446855849 AND loan>=9601.375482171099 THEN default=1 \n",
            "IF loan>=7498.630446855849 AND loan>=9595.28628892989 THEN default=0 \n",
            "IF loan>=7498.630446855849 AND age>=20.9909665295854 THEN default=1 \n",
            "IF loan<=5836.56338145928 AND income>=46132.9140514135 THEN default=0 \n",
            "IF income>=57787.565658800304 AND age>=20.3008601283655 THEN default=0 \n",
            "IF income<=22089.8374845274 AND age>=21.3656869572587 THEN default=1 \n",
            "IF loan>=4849.33378471958 AND loan>=7181.4785525792595 THEN default=1 \n",
            "IF income>=60019.447135273396 THEN default=0 \n",
            "IF loan>=4849.33378471958 AND loan>=6241.27050834808 THEN default=1 \n",
            "IF income>=52841.5164374746 THEN default=0 \n",
            "IF income>=45898.513523861795 THEN default=1 \n",
            "IF income>=45311.831838917 THEN default=0 \n",
            "IF income>=44979.802186135195 THEN default=1 \n",
            "IF loan>=4849.33378471958 AND loan>=5233.66322803221 THEN default=1 \n",
            "IF income>=40614.7220451385 THEN default=0 \n",
            "IF loan>=4285.38691174949 THEN default=1 \n",
            "IF income>=29724.4768752716 THEN default=0 \n",
            "IF age>=34.7410444347188 THEN default=0 \n",
            "IF age>=32.516422502230895 THEN default=1 \n",
            "IF age>=26.159438316244604 THEN default=0 \n",
            "IF income>=25640.0788831525 THEN default=1 \n",
            "IF income<=25146.5956843458 THEN default=0 \n",
            "IF TRUE THEN default=0 \n"
          ]
        }
      ]
    },
    {
      "cell_type": "code",
      "source": [
        "previsoes = Orange.evaluation.testing.TestOnTestData(base_treinamento, base_teste, [lambda testdata: regras_credit])"
      ],
      "metadata": {
        "id": "sAfsY9MjN4V5"
      },
      "execution_count": null,
      "outputs": []
    },
    {
      "cell_type": "code",
      "source": [
        "previsoes"
      ],
      "metadata": {
        "colab": {
          "base_uri": "https://localhost:8080/"
        },
        "id": "I07qgHViOiqp",
        "outputId": "aa72cd98-4d25-4aa6-f90c-55c80c3ad49c"
      },
      "execution_count": null,
      "outputs": [
        {
          "output_type": "execute_result",
          "data": {
            "text/plain": [
              "<Orange.evaluation.testing.Results at 0x7a597e753700>"
            ]
          },
          "metadata": {},
          "execution_count": 35
        }
      ]
    },
    {
      "cell_type": "code",
      "source": [
        "Orange.evaluation.CA(previsoes)"
      ],
      "metadata": {
        "colab": {
          "base_uri": "https://localhost:8080/"
        },
        "id": "UjWmurDSOk4A",
        "outputId": "474c5de0-fd04-4401-9a82-702f1a34f404"
      },
      "execution_count": null,
      "outputs": [
        {
          "output_type": "execute_result",
          "data": {
            "text/plain": [
              "array([0.986])"
            ]
          },
          "metadata": {},
          "execution_count": 37
        }
      ]
    }
  ]
}